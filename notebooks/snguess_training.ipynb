{
 "cells": [
  {
   "cell_type": "code",
   "execution_count": 1,
   "id": "4a0f26f9",
   "metadata": {},
   "outputs": [
    {
     "name": "stderr",
     "output_type": "stream",
     "text": [
      "/home/nmiranda/miniconda3/envs/snguess/lib/python3.10/site-packages/xgboost/compat.py:36: FutureWarning: pandas.Int64Index is deprecated and will be removed from pandas in a future version. Use pandas.Index with the appropriate dtype instead.\n",
      "  from pandas import MultiIndex, Int64Index\n"
     ]
    }
   ],
   "source": [
    "import pandas as pd\n",
    "import numpy as np\n",
    "from sklearn.model_selection import RandomizedSearchCV, StratifiedKFold\n",
    "from sklearn import metrics\n",
    "import xgboost as xgb"
   ]
  },
  {
   "cell_type": "markdown",
   "id": "11bac159",
   "metadata": {},
   "source": [
    "# Creating the dataset used by the SNGuess boosted decision tree\n",
    "\n",
    "We start from where we left it last time and load the file with features `snguess_training.csv` that we created in the notebook `snguess_training_data.ipynb`. "
   ]
  },
  {
   "cell_type": "code",
   "execution_count": 2,
   "id": "ce1bb3b2",
   "metadata": {},
   "outputs": [
    {
     "data": {
      "text/html": [
       "<div>\n",
       "<style scoped>\n",
       "    .dataframe tbody tr th:only-of-type {\n",
       "        vertical-align: middle;\n",
       "    }\n",
       "\n",
       "    .dataframe tbody tr th {\n",
       "        vertical-align: top;\n",
       "    }\n",
       "\n",
       "    .dataframe thead th {\n",
       "        text-align: right;\n",
       "    }\n",
       "</style>\n",
       "<table border=\"1\" class=\"dataframe\">\n",
       "  <thead>\n",
       "    <tr style=\"text-align: right;\">\n",
       "      <th></th>\n",
       "      <th>cut_pp</th>\n",
       "      <th>jd_det</th>\n",
       "      <th>jd_last</th>\n",
       "      <th>ndet</th>\n",
       "      <th>mag_det</th>\n",
       "      <th>mag_last</th>\n",
       "      <th>t_lc</th>\n",
       "      <th>rb_med</th>\n",
       "      <th>drb_med</th>\n",
       "      <th>distnr_med</th>\n",
       "      <th>...</th>\n",
       "      <th>snname</th>\n",
       "      <th>slope_fall_g</th>\n",
       "      <th>slope_fall_r</th>\n",
       "      <th>rcf_class</th>\n",
       "      <th>rcf_sn</th>\n",
       "      <th>rcf_agn</th>\n",
       "      <th>rcf_cv</th>\n",
       "      <th>targeted_by_bts</th>\n",
       "      <th>subclass</th>\n",
       "      <th>snclass</th>\n",
       "    </tr>\n",
       "  </thead>\n",
       "  <tbody>\n",
       "    <tr>\n",
       "      <th>0</th>\n",
       "      <td>0</td>\n",
       "      <td>2.458434e+06</td>\n",
       "      <td>2.458434e+06</td>\n",
       "      <td>1</td>\n",
       "      <td>17.577295</td>\n",
       "      <td>17.577295</td>\n",
       "      <td>0.000000</td>\n",
       "      <td>0.433333</td>\n",
       "      <td>NaN</td>\n",
       "      <td>1.078758</td>\n",
       "      <td>...</td>\n",
       "      <td>ZTF18aaxgaxw</td>\n",
       "      <td>NaN</td>\n",
       "      <td>NaN</td>\n",
       "      <td>NaN</td>\n",
       "      <td>False</td>\n",
       "      <td>False</td>\n",
       "      <td>False</td>\n",
       "      <td>False</td>\n",
       "      <td>NaN</td>\n",
       "      <td>NaN</td>\n",
       "    </tr>\n",
       "    <tr>\n",
       "      <th>1</th>\n",
       "      <td>0</td>\n",
       "      <td>2.458434e+06</td>\n",
       "      <td>2.458434e+06</td>\n",
       "      <td>1</td>\n",
       "      <td>17.577295</td>\n",
       "      <td>17.577295</td>\n",
       "      <td>0.000000</td>\n",
       "      <td>0.433333</td>\n",
       "      <td>NaN</td>\n",
       "      <td>1.078758</td>\n",
       "      <td>...</td>\n",
       "      <td>ZTF18aaxgaxw</td>\n",
       "      <td>NaN</td>\n",
       "      <td>NaN</td>\n",
       "      <td>NaN</td>\n",
       "      <td>False</td>\n",
       "      <td>False</td>\n",
       "      <td>False</td>\n",
       "      <td>False</td>\n",
       "      <td>NaN</td>\n",
       "      <td>NaN</td>\n",
       "    </tr>\n",
       "    <tr>\n",
       "      <th>2</th>\n",
       "      <td>0</td>\n",
       "      <td>2.458434e+06</td>\n",
       "      <td>2.458434e+06</td>\n",
       "      <td>1</td>\n",
       "      <td>17.577295</td>\n",
       "      <td>17.577295</td>\n",
       "      <td>0.000000</td>\n",
       "      <td>0.433333</td>\n",
       "      <td>NaN</td>\n",
       "      <td>1.078758</td>\n",
       "      <td>...</td>\n",
       "      <td>ZTF18aaxgaxw</td>\n",
       "      <td>NaN</td>\n",
       "      <td>NaN</td>\n",
       "      <td>NaN</td>\n",
       "      <td>False</td>\n",
       "      <td>False</td>\n",
       "      <td>False</td>\n",
       "      <td>False</td>\n",
       "      <td>NaN</td>\n",
       "      <td>NaN</td>\n",
       "    </tr>\n",
       "    <tr>\n",
       "      <th>3</th>\n",
       "      <td>0</td>\n",
       "      <td>2.458434e+06</td>\n",
       "      <td>2.458434e+06</td>\n",
       "      <td>1</td>\n",
       "      <td>17.577295</td>\n",
       "      <td>17.577295</td>\n",
       "      <td>0.000000</td>\n",
       "      <td>0.433333</td>\n",
       "      <td>NaN</td>\n",
       "      <td>1.078758</td>\n",
       "      <td>...</td>\n",
       "      <td>ZTF18aaxgaxw</td>\n",
       "      <td>NaN</td>\n",
       "      <td>NaN</td>\n",
       "      <td>NaN</td>\n",
       "      <td>False</td>\n",
       "      <td>False</td>\n",
       "      <td>False</td>\n",
       "      <td>False</td>\n",
       "      <td>NaN</td>\n",
       "      <td>NaN</td>\n",
       "    </tr>\n",
       "    <tr>\n",
       "      <th>4</th>\n",
       "      <td>0</td>\n",
       "      <td>2.458434e+06</td>\n",
       "      <td>2.458434e+06</td>\n",
       "      <td>1</td>\n",
       "      <td>17.577295</td>\n",
       "      <td>17.577295</td>\n",
       "      <td>0.000000</td>\n",
       "      <td>0.433333</td>\n",
       "      <td>NaN</td>\n",
       "      <td>1.078758</td>\n",
       "      <td>...</td>\n",
       "      <td>ZTF18aaxgaxw</td>\n",
       "      <td>NaN</td>\n",
       "      <td>NaN</td>\n",
       "      <td>NaN</td>\n",
       "      <td>False</td>\n",
       "      <td>False</td>\n",
       "      <td>False</td>\n",
       "      <td>False</td>\n",
       "      <td>NaN</td>\n",
       "      <td>NaN</td>\n",
       "    </tr>\n",
       "    <tr>\n",
       "      <th>...</th>\n",
       "      <td>...</td>\n",
       "      <td>...</td>\n",
       "      <td>...</td>\n",
       "      <td>...</td>\n",
       "      <td>...</td>\n",
       "      <td>...</td>\n",
       "      <td>...</td>\n",
       "      <td>...</td>\n",
       "      <td>...</td>\n",
       "      <td>...</td>\n",
       "      <td>...</td>\n",
       "      <td>...</td>\n",
       "      <td>...</td>\n",
       "      <td>...</td>\n",
       "      <td>...</td>\n",
       "      <td>...</td>\n",
       "      <td>...</td>\n",
       "      <td>...</td>\n",
       "      <td>...</td>\n",
       "      <td>...</td>\n",
       "      <td>...</td>\n",
       "    </tr>\n",
       "    <tr>\n",
       "      <th>250320</th>\n",
       "      <td>0</td>\n",
       "      <td>2.458663e+06</td>\n",
       "      <td>2.458668e+06</td>\n",
       "      <td>2</td>\n",
       "      <td>17.056499</td>\n",
       "      <td>17.605425</td>\n",
       "      <td>4.979271</td>\n",
       "      <td>0.649286</td>\n",
       "      <td>0.214382</td>\n",
       "      <td>0.762824</td>\n",
       "      <td>...</td>\n",
       "      <td>ZTF19abddmnz</td>\n",
       "      <td>0.110242</td>\n",
       "      <td>NaN</td>\n",
       "      <td>NaN</td>\n",
       "      <td>False</td>\n",
       "      <td>False</td>\n",
       "      <td>False</td>\n",
       "      <td>False</td>\n",
       "      <td>NaN</td>\n",
       "      <td>NaN</td>\n",
       "    </tr>\n",
       "    <tr>\n",
       "      <th>250321</th>\n",
       "      <td>0</td>\n",
       "      <td>2.458668e+06</td>\n",
       "      <td>2.458671e+06</td>\n",
       "      <td>3</td>\n",
       "      <td>19.795700</td>\n",
       "      <td>19.604424</td>\n",
       "      <td>2.981759</td>\n",
       "      <td>0.897143</td>\n",
       "      <td>0.999895</td>\n",
       "      <td>1.378160</td>\n",
       "      <td>...</td>\n",
       "      <td>ZTF19abddoln</td>\n",
       "      <td>NaN</td>\n",
       "      <td>NaN</td>\n",
       "      <td>NaN</td>\n",
       "      <td>False</td>\n",
       "      <td>False</td>\n",
       "      <td>False</td>\n",
       "      <td>False</td>\n",
       "      <td>NaN</td>\n",
       "      <td>NaN</td>\n",
       "    </tr>\n",
       "    <tr>\n",
       "      <th>250322</th>\n",
       "      <td>0</td>\n",
       "      <td>2.458668e+06</td>\n",
       "      <td>2.458668e+06</td>\n",
       "      <td>2</td>\n",
       "      <td>19.795700</td>\n",
       "      <td>19.865593</td>\n",
       "      <td>0.020556</td>\n",
       "      <td>0.903571</td>\n",
       "      <td>0.999870</td>\n",
       "      <td>1.513054</td>\n",
       "      <td>...</td>\n",
       "      <td>ZTF19abddoln</td>\n",
       "      <td>NaN</td>\n",
       "      <td>NaN</td>\n",
       "      <td>NaN</td>\n",
       "      <td>False</td>\n",
       "      <td>False</td>\n",
       "      <td>False</td>\n",
       "      <td>False</td>\n",
       "      <td>NaN</td>\n",
       "      <td>NaN</td>\n",
       "    </tr>\n",
       "    <tr>\n",
       "      <th>250323</th>\n",
       "      <td>0</td>\n",
       "      <td>2.458668e+06</td>\n",
       "      <td>2.458674e+06</td>\n",
       "      <td>4</td>\n",
       "      <td>19.795700</td>\n",
       "      <td>19.511892</td>\n",
       "      <td>5.982535</td>\n",
       "      <td>0.903571</td>\n",
       "      <td>0.999920</td>\n",
       "      <td>1.470891</td>\n",
       "      <td>...</td>\n",
       "      <td>ZTF19abddoln</td>\n",
       "      <td>NaN</td>\n",
       "      <td>NaN</td>\n",
       "      <td>NaN</td>\n",
       "      <td>False</td>\n",
       "      <td>False</td>\n",
       "      <td>False</td>\n",
       "      <td>False</td>\n",
       "      <td>NaN</td>\n",
       "      <td>NaN</td>\n",
       "    </tr>\n",
       "    <tr>\n",
       "      <th>250324</th>\n",
       "      <td>0</td>\n",
       "      <td>2.458668e+06</td>\n",
       "      <td>2.458678e+06</td>\n",
       "      <td>5</td>\n",
       "      <td>19.795700</td>\n",
       "      <td>19.627052</td>\n",
       "      <td>10.017894</td>\n",
       "      <td>0.897143</td>\n",
       "      <td>0.999917</td>\n",
       "      <td>1.378160</td>\n",
       "      <td>...</td>\n",
       "      <td>ZTF19abddoln</td>\n",
       "      <td>NaN</td>\n",
       "      <td>NaN</td>\n",
       "      <td>NaN</td>\n",
       "      <td>False</td>\n",
       "      <td>False</td>\n",
       "      <td>False</td>\n",
       "      <td>False</td>\n",
       "      <td>NaN</td>\n",
       "      <td>NaN</td>\n",
       "    </tr>\n",
       "  </tbody>\n",
       "</table>\n",
       "<p>250325 rows × 41 columns</p>\n",
       "</div>"
      ],
      "text/plain": [
       "        cut_pp        jd_det       jd_last  ndet    mag_det   mag_last  \\\n",
       "0            0  2.458434e+06  2.458434e+06     1  17.577295  17.577295   \n",
       "1            0  2.458434e+06  2.458434e+06     1  17.577295  17.577295   \n",
       "2            0  2.458434e+06  2.458434e+06     1  17.577295  17.577295   \n",
       "3            0  2.458434e+06  2.458434e+06     1  17.577295  17.577295   \n",
       "4            0  2.458434e+06  2.458434e+06     1  17.577295  17.577295   \n",
       "...        ...           ...           ...   ...        ...        ...   \n",
       "250320       0  2.458663e+06  2.458668e+06     2  17.056499  17.605425   \n",
       "250321       0  2.458668e+06  2.458671e+06     3  19.795700  19.604424   \n",
       "250322       0  2.458668e+06  2.458668e+06     2  19.795700  19.865593   \n",
       "250323       0  2.458668e+06  2.458674e+06     4  19.795700  19.511892   \n",
       "250324       0  2.458668e+06  2.458678e+06     5  19.795700  19.627052   \n",
       "\n",
       "             t_lc    rb_med   drb_med  distnr_med  ...        snname  \\\n",
       "0        0.000000  0.433333       NaN    1.078758  ...  ZTF18aaxgaxw   \n",
       "1        0.000000  0.433333       NaN    1.078758  ...  ZTF18aaxgaxw   \n",
       "2        0.000000  0.433333       NaN    1.078758  ...  ZTF18aaxgaxw   \n",
       "3        0.000000  0.433333       NaN    1.078758  ...  ZTF18aaxgaxw   \n",
       "4        0.000000  0.433333       NaN    1.078758  ...  ZTF18aaxgaxw   \n",
       "...           ...       ...       ...         ...  ...           ...   \n",
       "250320   4.979271  0.649286  0.214382    0.762824  ...  ZTF19abddmnz   \n",
       "250321   2.981759  0.897143  0.999895    1.378160  ...  ZTF19abddoln   \n",
       "250322   0.020556  0.903571  0.999870    1.513054  ...  ZTF19abddoln   \n",
       "250323   5.982535  0.903571  0.999920    1.470891  ...  ZTF19abddoln   \n",
       "250324  10.017894  0.897143  0.999917    1.378160  ...  ZTF19abddoln   \n",
       "\n",
       "        slope_fall_g  slope_fall_r  rcf_class  rcf_sn  rcf_agn  rcf_cv  \\\n",
       "0                NaN           NaN        NaN   False    False   False   \n",
       "1                NaN           NaN        NaN   False    False   False   \n",
       "2                NaN           NaN        NaN   False    False   False   \n",
       "3                NaN           NaN        NaN   False    False   False   \n",
       "4                NaN           NaN        NaN   False    False   False   \n",
       "...              ...           ...        ...     ...      ...     ...   \n",
       "250320      0.110242           NaN        NaN   False    False   False   \n",
       "250321           NaN           NaN        NaN   False    False   False   \n",
       "250322           NaN           NaN        NaN   False    False   False   \n",
       "250323           NaN           NaN        NaN   False    False   False   \n",
       "250324           NaN           NaN        NaN   False    False   False   \n",
       "\n",
       "        targeted_by_bts  subclass  snclass  \n",
       "0                 False       NaN      NaN  \n",
       "1                 False       NaN      NaN  \n",
       "2                 False       NaN      NaN  \n",
       "3                 False       NaN      NaN  \n",
       "4                 False       NaN      NaN  \n",
       "...                 ...       ...      ...  \n",
       "250320            False       NaN      NaN  \n",
       "250321            False       NaN      NaN  \n",
       "250322            False       NaN      NaN  \n",
       "250323            False       NaN      NaN  \n",
       "250324            False       NaN      NaN  \n",
       "\n",
       "[250325 rows x 41 columns]"
      ]
     },
     "execution_count": 2,
     "metadata": {},
     "output_type": "execute_result"
    }
   ],
   "source": [
    "features = pd.read_csv('data/snguess_training.csv')\n",
    "features"
   ]
  },
  {
   "cell_type": "markdown",
   "id": "6c307c00",
   "metadata": {},
   "source": [
    "## Marking short-lived transients\n",
    "We will next mark transients for which we never got much data (less than six final detections). The reason is that these are often real SNe but for example where the survey did not continue following the field. RCF would not have tried to type these. Note that this will also include many potential interesting, short-lived candidates. The flag `rcf_gone` is added to reflect this."
   ]
  },
  {
   "cell_type": "code",
   "execution_count": 3,
   "id": "b49c32c8",
   "metadata": {},
   "outputs": [],
   "source": [
    "rcf_gone = pd.Series(False, index=features[features.ndet > 6].snname.unique(), name=\"rcf_gone\")\n",
    "features = features.merge(rcf_gone, how='left', left_on='snname', right_index=True).fillna(value={'rcf_gone':True})"
   ]
  },
  {
   "cell_type": "code",
   "execution_count": 4,
   "id": "88c2344e",
   "metadata": {},
   "outputs": [
    {
     "name": "stdout",
     "output_type": "stream",
     "text": [
      "We found 178035 persistent transisnts (scaled from nbr_det prm)\n",
      "We found 72290 non persistent transisnts (scaled from nbr_det prm)\n"
     ]
    }
   ],
   "source": [
    "print('We found %s persistent transisnts (scaled from nbr_det prm)' % features.rcf_gone.value_counts()[False])\n",
    "print('We found %s non persistent transisnts (scaled from nbr_det prm)' % features.rcf_gone.value_counts()[True])"
   ]
  },
  {
   "cell_type": "markdown",
   "id": "a6bb58df",
   "metadata": {},
   "source": [
    "## Marking classes"
   ]
  },
  {
   "cell_type": "code",
   "execution_count": 5,
   "id": "bbe3f115",
   "metadata": {},
   "outputs": [
    {
     "name": "stdout",
     "output_type": "stream",
     "text": [
      "Number of unique sne: 45397\n",
      "Number of RCF sne: 1601\n",
      "Number of agn: 174\n",
      "Number of cv: 119\n",
      "Number of gone: 34298\n"
     ]
    }
   ],
   "source": [
    "print(\"Number of unique sne: %s\"%(len(np.unique(features['snname']))))\n",
    "print(\"Number of RCF sne: %s\"%(len(np.unique(features[ features['rcf_sn'] ]['snname']))))\n",
    "print(\"Number of agn: %s\"%(len(np.unique(features[ features['rcf_agn'] ]['snname']))))\n",
    "print(\"Number of cv: %s\"%(len(np.unique(features[ features['rcf_cv'] ]['snname']))))\n",
    "print(\"Number of gone: %s\"%(len(np.unique(features[ features['rcf_gone'] ]['snname']))))"
   ]
  },
  {
   "cell_type": "code",
   "execution_count": 6,
   "id": "aba995a8",
   "metadata": {},
   "outputs": [],
   "source": [
    "features.loc[:,'class'] = 0\n",
    "features.loc[features['rcf_gone'],'class'] = 1\n",
    "features.loc[features['rcf_cv'],'class'] = 2\n",
    "features.loc[features['rcf_agn'],'class'] = 3\n",
    "features.loc[features['rcf_sn'],'class'] = 4"
   ]
  },
  {
   "cell_type": "code",
   "execution_count": 7,
   "id": "6fa36559",
   "metadata": {},
   "outputs": [
    {
     "name": "stdout",
     "output_type": "stream",
     "text": [
      "Number of alerts: 109599\n",
      "Number of candidates: 35899\n"
     ]
    }
   ],
   "source": [
    "print('Number of alerts:', len(features[ features['class']>0 ]))\n",
    "print('Number of candidates:', len(features[ features['class']>0 ].snname.unique()))"
   ]
  },
  {
   "cell_type": "code",
   "execution_count": 8,
   "id": "33997b6a",
   "metadata": {},
   "outputs": [],
   "source": [
    "features.to_csv('data/snguess_features_class.csv', index_label=False)"
   ]
  },
  {
   "cell_type": "markdown",
   "id": "82aaf47b",
   "metadata": {},
   "source": [
    "## Data cuts\n",
    "SNGuess (v0.1) was trained on a dataset where each RiseDecline row which included significant gaps in the lightcurves was removed. This is also in place when applied on real data. This will remove a lot of recurrent variability already at the design stage. "
   ]
  },
  {
   "cell_type": "markdown",
   "id": "1f75f7ee",
   "metadata": {},
   "source": [
    "Now we limit the sample to different number of detections (and other properties we might know). Each one of this cuts will produce a different classification model."
   ]
  },
  {
   "cell_type": "code",
   "execution_count": 9,
   "id": "7a25ba6d",
   "metadata": {},
   "outputs": [],
   "source": [
    "# Might want to redo this for different number of detections\n",
    "# nbr_det = 2, 3, 4, 5, 6, 100\n",
    "nbr_det = 2\n",
    "if nbr_det<=2:\n",
    "    max_duration = 3.5\n",
    "    max_predetect = 3.5\n",
    "    min_detmag = 16 # Things starting brighter than this must be stars\n",
    "elif nbr_det<=4:\n",
    "    max_duration = 6.5\n",
    "    max_predetect = 3.5\n",
    "    min_detmag = 16 # Things starting brighter than this must be stars\n",
    "elif nbr_det<=6:\n",
    "    max_duration = 10\n",
    "    max_predetect = 3.5\n",
    "    min_detmag = 16 # Things starting brighter than this must be stars\n",
    "elif nbr_det==100:\n",
    "    # This is a special case where we look for a full lightcurve\n",
    "    max_duration = 90\n",
    "    max_predetect = 10\n",
    "    min_detmag = 16 # Things starting brighter than this must be stars    "
   ]
  },
  {
   "cell_type": "markdown",
   "id": "d45ba23d",
   "metadata": {},
   "source": [
    "Remove all lines for which the lightcurve has a gap. Important notes: \n",
    "1. These recurrent events might be most intresting to some. \n",
    "2. We just remove rows, so other copies of the same transient might still be there."
   ]
  },
  {
   "cell_type": "code",
   "execution_count": 10,
   "id": "8d2185a5",
   "metadata": {},
   "outputs": [],
   "source": [
    "features = features.drop( np.where(features['bool_hasgaps'])[0] )"
   ]
  },
  {
   "cell_type": "markdown",
   "id": "13db66e7",
   "metadata": {},
   "source": [
    "As the next step, also create a list of objects that were never detected again (beyond nbr_det). If possible we wish to train to get rid of these! Now there are many reasons we might not detect something, so there will again be good candidates here, but presumably not interesting for further follow-up. Kilnovae we anyway have to investigate using high cadence data."
   ]
  },
  {
   "cell_type": "code",
   "execution_count": 11,
   "id": "fbfb8396",
   "metadata": {},
   "outputs": [],
   "source": [
    "iTime = np.where(features[\"t_lc\"]<max_duration)[0]\n",
    "features = features.iloc[iTime]"
   ]
  },
  {
   "cell_type": "code",
   "execution_count": 12,
   "id": "c3c24f12",
   "metadata": {},
   "outputs": [],
   "source": [
    "iPre = np.where(features[\"t_predetect\"]<=max_predetect)[0]\n",
    "features = features.iloc[iPre]"
   ]
  },
  {
   "cell_type": "code",
   "execution_count": 13,
   "id": "00b28627",
   "metadata": {},
   "outputs": [],
   "source": [
    "# Skip cases with intervening upper limits for now\n",
    "if nbr_det<100:\n",
    "    features = features[ features['bool_pure']]"
   ]
  },
  {
   "cell_type": "code",
   "execution_count": 14,
   "id": "93d88350",
   "metadata": {},
   "outputs": [],
   "source": [
    "# Also, lets skip the few cases with duplicated pps\n",
    "iDup = np.where(features[\"cut_pp\"]>0)[0]\n",
    "dupTransients = features.iloc[iDup]['snname'].unique()\n",
    "features = features[ ~features['snname'].isin(dupTransients) ]"
   ]
  },
  {
   "cell_type": "markdown",
   "id": "a0118cd1",
   "metadata": {},
   "source": [
    "Next, we look to keep transients that eventually get brighter than 18.5 (so into RCF territory)"
   ]
  },
  {
   "cell_type": "code",
   "execution_count": 15,
   "id": "e9380f1e",
   "metadata": {},
   "outputs": [],
   "source": [
    "iMag = np.where(features[\"mag_det\"]<min_detmag)[0]\n",
    "mTransients = features.iloc[iMag]['snname'].unique()\n",
    "features = features[ ~features['snname'].isin(mTransients) ]"
   ]
  },
  {
   "cell_type": "code",
   "execution_count": 16,
   "id": "11e47fe9",
   "metadata": {},
   "outputs": [],
   "source": [
    "# Here we actually make a direct cut on each row\n",
    "# Hmm, do we actually not do anything for 3 and five detections?   We actually run it for 2,3,4,5,6,6-100!\n",
    "if nbr_det==100:\n",
    "    iDet = np.where( (features[\"ndet\"]<100) & (features[\"ndet\"]>6) )[0]\n",
    "else:\n",
    "    iDet = np.where(features[\"ndet\"]==nbr_det)[0]\n",
    "features = features.iloc[iDet]"
   ]
  },
  {
   "cell_type": "markdown",
   "id": "898d1249",
   "metadata": {},
   "source": [
    "# Training"
   ]
  },
  {
   "cell_type": "code",
   "execution_count": 17,
   "id": "3286daa7",
   "metadata": {},
   "outputs": [],
   "source": [
    "# We now create a classified sample where we remove everything with class 0\n",
    "mlfeatures = features[ features['class']>0 ]\n",
    "\n",
    "if nbr_det<100:\n",
    "    # This is what is used for ndet<=6\n",
    "    use_cols = ['mag_det','mag_last','t_lc','rb_med','col_det','t_predetect','distnr_med', 'magnr_med', \n",
    "                'classtar_med','sgscore1_med', 'distpsnr1_med', 'neargaia_med', 'maggaia_med']\n",
    "else:\n",
    "    # ANd for ndet=100\n",
    "    use_cols = ['mag_det','mag_last','t_lc','rb_med','col_det','t_predetect','distnr_med', \n",
    "                 'magnr_med', 'classtar_med','sgscore1_med', 'distpsnr1_med',\n",
    "                 'neargaia_med', 'maggaia_med','mag_peak','col_last','col_peak']\n",
    "\n",
    "feats = mlfeatures[use_cols]\n",
    "target = mlfeatures.rcf_sn"
   ]
  },
  {
   "cell_type": "code",
   "execution_count": 18,
   "id": "d1d23080",
   "metadata": {},
   "outputs": [],
   "source": [
    "# Estimate scale_pos_weight to make up for class imbalance (negative_examples / positive_examples)\n",
    "scale_pos_weight = (len(target) - np.sum(target)) / np.sum(target)\n",
    "\n",
    "model = xgb.XGBClassifier(\n",
    "    scale_pos_weight=scale_pos_weight,\n",
    "    use_label_encoder=False,\n",
    "    random_state=42,\n",
    "    objective='binary:logistic')"
   ]
  },
  {
   "cell_type": "code",
   "execution_count": 19,
   "id": "b2928a12",
   "metadata": {},
   "outputs": [],
   "source": [
    "param_grid = {\n",
    "        'max_depth': [2, 3, 4, 5, 6, 7, 8, 9, 10, 11, 12],\n",
    "        'min_child_weight': np.arange(0.0001, 0.5, 0.001),\n",
    "        'gamma': np.arange(0.0,40.0,0.005),\n",
    "        'learning_rate': np.arange(0.0005,0.5,0.0005),\n",
    "        'subsample': np.arange(0.01,1.0,0.01),\n",
    "        'colsample_bylevel': np.round(np.arange(0.1,1.0,0.01)),\n",
    "        'colsample_bytree': np.arange(0.1,1.0,0.01),\n",
    "        }\n",
    "\n",
    "kfold = StratifiedKFold(\n",
    "    n_splits=5, \n",
    "    shuffle=True, \n",
    "    random_state=42)\n",
    "\n",
    "grid_search = RandomizedSearchCV(\n",
    "    model, \n",
    "    param_grid, \n",
    "    scoring=None, \n",
    "#     n_iter = 200,                                # Maximum number of iterations\n",
    "    n_iter = 1,\n",
    "    n_jobs=4, \n",
    "    cv=kfold, \n",
    "    random_state=42, \n",
    "    verbose=1, \n",
    "    error_score='raise')"
   ]
  },
  {
   "cell_type": "code",
   "execution_count": 20,
   "id": "a36ab930",
   "metadata": {},
   "outputs": [
    {
     "data": {
      "text/plain": [
       "1531      False\n",
       "1538      False\n",
       "1596      False\n",
       "1598      False\n",
       "2012       True\n",
       "          ...  \n",
       "250126    False\n",
       "250129    False\n",
       "250130    False\n",
       "250274    False\n",
       "250298    False\n",
       "Name: rcf_sn, Length: 2751, dtype: bool"
      ]
     },
     "execution_count": 20,
     "metadata": {},
     "output_type": "execute_result"
    }
   ],
   "source": [
    "target"
   ]
  },
  {
   "cell_type": "code",
   "execution_count": 21,
   "id": "cda952a7",
   "metadata": {},
   "outputs": [
    {
     "name": "stdout",
     "output_type": "stream",
     "text": [
      "Fitting 5 folds for each of 1 candidates, totalling 5 fits\n"
     ]
    },
    {
     "name": "stderr",
     "output_type": "stream",
     "text": [
      "/home/nmiranda/miniconda3/envs/snguess/lib/python3.10/site-packages/xgboost/compat.py:36: FutureWarning: pandas.Int64Index is deprecated and will be removed from pandas in a future version. Use pandas.Index with the appropriate dtype instead.\n",
      "  from pandas import MultiIndex, Int64Index\n",
      "/home/nmiranda/miniconda3/envs/snguess/lib/python3.10/site-packages/xgboost/compat.py:36: FutureWarning: pandas.Int64Index is deprecated and will be removed from pandas in a future version. Use pandas.Index with the appropriate dtype instead.\n",
      "  from pandas import MultiIndex, Int64Index\n",
      "/home/nmiranda/miniconda3/envs/snguess/lib/python3.10/site-packages/xgboost/compat.py:36: FutureWarning: pandas.Int64Index is deprecated and will be removed from pandas in a future version. Use pandas.Index with the appropriate dtype instead.\n",
      "  from pandas import MultiIndex, Int64Index\n",
      "/home/nmiranda/miniconda3/envs/snguess/lib/python3.10/site-packages/xgboost/compat.py:36: FutureWarning: pandas.Int64Index is deprecated and will be removed from pandas in a future version. Use pandas.Index with the appropriate dtype instead.\n",
      "  from pandas import MultiIndex, Int64Index\n",
      "/home/nmiranda/miniconda3/envs/snguess/lib/python3.10/site-packages/xgboost/data.py:250: FutureWarning: pandas.Int64Index is deprecated and will be removed from pandas in a future version. Use pandas.Index with the appropriate dtype instead.\n",
      "  elif isinstance(data.columns, (pd.Int64Index, pd.RangeIndex)):\n",
      "/home/nmiranda/miniconda3/envs/snguess/lib/python3.10/site-packages/xgboost/data.py:250: FutureWarning: pandas.Int64Index is deprecated and will be removed from pandas in a future version. Use pandas.Index with the appropriate dtype instead.\n",
      "  elif isinstance(data.columns, (pd.Int64Index, pd.RangeIndex)):\n",
      "/home/nmiranda/miniconda3/envs/snguess/lib/python3.10/site-packages/xgboost/data.py:250: FutureWarning: pandas.Int64Index is deprecated and will be removed from pandas in a future version. Use pandas.Index with the appropriate dtype instead.\n",
      "  elif isinstance(data.columns, (pd.Int64Index, pd.RangeIndex)):\n",
      "/home/nmiranda/miniconda3/envs/snguess/lib/python3.10/site-packages/xgboost/data.py:250: FutureWarning: pandas.Int64Index is deprecated and will be removed from pandas in a future version. Use pandas.Index with the appropriate dtype instead.\n",
      "  elif isinstance(data.columns, (pd.Int64Index, pd.RangeIndex)):\n",
      "/home/nmiranda/miniconda3/envs/snguess/lib/python3.10/site-packages/xgboost/data.py:250: FutureWarning: pandas.Int64Index is deprecated and will be removed from pandas in a future version. Use pandas.Index with the appropriate dtype instead.\n",
      "  elif isinstance(data.columns, (pd.Int64Index, pd.RangeIndex)):\n",
      "/home/nmiranda/miniconda3/envs/snguess/lib/python3.10/site-packages/xgboost/data.py:250: FutureWarning: pandas.Int64Index is deprecated and will be removed from pandas in a future version. Use pandas.Index with the appropriate dtype instead.\n",
      "  elif isinstance(data.columns, (pd.Int64Index, pd.RangeIndex)):\n"
     ]
    }
   ],
   "source": [
    "grid_result = grid_search.fit(feats, target, eval_metric='aucpr')"
   ]
  },
  {
   "cell_type": "code",
   "execution_count": 22,
   "id": "ffc6100e",
   "metadata": {},
   "outputs": [
    {
     "name": "stdout",
     "output_type": "stream",
     "text": [
      "Best: 0.878595 using {'subsample': 0.8, 'min_child_weight': 0.2681, 'max_depth': 3, 'learning_rate': 0.1675, 'gamma': 35.405, 'colsample_bytree': 0.3899999999999999, 'colsample_bylevel': 1.0}\n"
     ]
    }
   ],
   "source": [
    "print(\"Best: %f using %s\" % (grid_result.best_score_, grid_result.best_params_))\n",
    "means = grid_result.cv_results_[ 'mean_test_score' ]\n",
    "stds = grid_result.cv_results_[ 'std_test_score' ]\n",
    "params = grid_result.cv_results_[ 'params' ]"
   ]
  },
  {
   "cell_type": "code",
   "execution_count": 23,
   "id": "504345e4",
   "metadata": {},
   "outputs": [
    {
     "data": {
      "text/plain": [
       "XGBClassifier(base_score=0.5, booster='gbtree', colsample_bylevel=1.0,\n",
       "              colsample_bynode=1, colsample_bytree=0.3899999999999999,\n",
       "              enable_categorical=False, gamma=35.405, gpu_id=-1,\n",
       "              importance_type=None, interaction_constraints='',\n",
       "              learning_rate=0.1675, max_delta_step=0, max_depth=3,\n",
       "              min_child_weight=0.2681, missing=nan, monotone_constraints='()',\n",
       "              n_estimators=100, n_jobs=8, num_parallel_tree=1, predictor='auto',\n",
       "              random_state=42, reg_alpha=0, reg_lambda=1,\n",
       "              scale_pos_weight=9.74609375, subsample=0.8, tree_method='exact',\n",
       "              use_label_encoder=False, validate_parameters=1, verbosity=None)"
      ]
     },
     "execution_count": 23,
     "metadata": {},
     "output_type": "execute_result"
    }
   ],
   "source": [
    "best_estimator = grid_result.best_estimator_\n",
    "best_estimator"
   ]
  },
  {
   "cell_type": "code",
   "execution_count": 24,
   "id": "4424b7a9",
   "metadata": {},
   "outputs": [
    {
     "name": "stdout",
     "output_type": "stream",
     "text": [
      "Evaluating model on the whole training sample:\n",
      "Precision: 46.78%\n",
      "Recall: 93.75%\n",
      "AUCPR: 44.44%\n"
     ]
    }
   ],
   "source": [
    "print('Evaluating model on the whole training sample:')\n",
    "pred = best_estimator.predict(feats)\n",
    "precision = metrics.precision_score(target, pred)\n",
    "recall = metrics.recall_score(target, pred)\n",
    "aucpr = metrics.average_precision_score(target, pred)\n",
    "print(\"Precision: %.2f%%\" % (precision * 100.0))\n",
    "print(\"Recall: %.2f%%\" % (recall * 100.0))\n",
    "print(\"AUCPR: %.2f%%\" % (aucpr * 100.0))"
   ]
  },
  {
   "cell_type": "markdown",
   "id": "0f0a4c95",
   "metadata": {},
   "source": [
    "## A note on prediction values\n",
    "When doing predictions with the estimator's `predict` or `predict_proba` methods, the return values are between 0.0 and 1.0, as expected."
   ]
  },
  {
   "cell_type": "code",
   "execution_count": 25,
   "id": "c78b1e34",
   "metadata": {},
   "outputs": [
    {
     "data": {
      "text/plain": [
       "array([[0.9700839 , 0.02991611],\n",
       "       [0.3632251 , 0.6367749 ],\n",
       "       [0.97369814, 0.02630189],\n",
       "       ...,\n",
       "       [0.97634256, 0.02365743],\n",
       "       [0.59177387, 0.40822613],\n",
       "       [0.81460595, 0.18539408]], dtype=float32)"
      ]
     },
     "execution_count": 25,
     "metadata": {},
     "output_type": "execute_result"
    }
   ],
   "source": [
    "best_estimator.predict_proba(feats)"
   ]
  },
  {
   "cell_type": "markdown",
   "id": "f09a4a36",
   "metadata": {},
   "source": [
    "However, when serializing the model for production it may happen that a plain floating point value is returned instead. We can simulate this by running the estimator's `predict` method with the `output_margin` argument."
   ]
  },
  {
   "cell_type": "code",
   "execution_count": 26,
   "id": "b081ae36",
   "metadata": {},
   "outputs": [
    {
     "data": {
      "text/plain": [
       "array([-3.4789855 ,  0.5613934 , -3.6114604 , ..., -3.7201362 ,\n",
       "       -0.37130323, -1.4802208 ], dtype=float32)"
      ]
     },
     "execution_count": 26,
     "metadata": {},
     "output_type": "execute_result"
    }
   ],
   "source": [
    "margins = best_estimator.predict(feats, output_margin=True)\n",
    "margins"
   ]
  },
  {
   "cell_type": "markdown",
   "id": "2f8334c3",
   "metadata": {},
   "source": [
    "This should not be a big problem. In order to get a probablility-like value between 0.0 and 1.0 we just need to apply the logistic function to the margins."
   ]
  },
  {
   "cell_type": "code",
   "execution_count": 27,
   "id": "99127453",
   "metadata": {},
   "outputs": [
    {
     "data": {
      "text/plain": [
       "array([0.02991611, 0.63677484, 0.02630189, ..., 0.02365743, 0.40822613,\n",
       "       0.18539408], dtype=float32)"
      ]
     },
     "execution_count": 27,
     "metadata": {},
     "output_type": "execute_result"
    }
   ],
   "source": [
    "1.0 / (1.0 + np.exp(-margins))"
   ]
  }
 ],
 "metadata": {
  "kernelspec": {
   "display_name": "Python 3.10.1 ('snguess')",
   "language": "python",
   "name": "python3"
  },
  "language_info": {
   "codemirror_mode": {
    "name": "ipython",
    "version": 3
   },
   "file_extension": ".py",
   "mimetype": "text/x-python",
   "name": "python",
   "nbconvert_exporter": "python",
   "pygments_lexer": "ipython3",
   "version": "3.10.1"
  },
  "vscode": {
   "interpreter": {
    "hash": "070e175bd8bd15f6f90696124cd127558bd073e46cb3c276d7b9a30675a00244"
   }
  }
 },
 "nbformat": 4,
 "nbformat_minor": 5
}
