{
 "cells": [
  {
   "cell_type": "code",
   "execution_count": null,
   "id": "544b7d9e",
   "metadata": {},
   "outputs": [],
   "source": [
    "import sys \n",
    "import os\n",
    "import requests\n",
    "import pandas as pd\n",
    "sys.path.append(os.path.abspath(\"../../\"))\n",
    "from ampel.ztf.dev.ZTFAlert import ZTFAlert\n",
    "from ampel.contrib.hu.t2.T2BrightSNProb import T2BrightSNProb\n",
    "from ampel.log.AmpelLogger import AmpelLogger\n",
    "from ampel.ztf.util import ZTFIdMapper\n",
    "from ampel.ztf.ingest.ZiDataPointShaper import ZiDataPointShaper\n",
    "from ampel.content.T1Document import T1Document\n",
    "from ampel.view.LightCurve import LightCurve"
   ]
  },
  {
   "cell_type": "markdown",
   "id": "6da3df6c",
   "metadata": {},
   "source": [
    "# Running SNGuess over a ZTF candidate's alerts\n",
    "\n",
    "In this notebook we will query the DESY archive for the alerts of a ZTF candidate, and then run SNGuess over it in order to obtain a relevance score.\n",
    "\n",
    "## Steps\n",
    "\n",
    "First, we enter the connection parameters for the DESY archive. In our case, this is an archive token that can be obtained by accessing https://ampel.zeuthen.desy.de/live/dashboard/tokens , and clicking on the _\"Archive tokens\"_ tab.\n",
    "\n",
    "Note: you need to generate a persistent __archive token__, and __not__ a 1-hour-valid API token.\n",
    "\n",
    "If your GitHub user is not an active member in the ZTF or AMPEL organizations, please send an e-mail to ampel-info@desy.de ."
   ]
  },
  {
   "cell_type": "code",
   "execution_count": null,
   "id": "b6ab02ca",
   "metadata": {},
   "outputs": [],
   "source": [
    "token = # Add token string"
   ]
  },
  {
   "cell_type": "markdown",
   "id": "dd09c8fd",
   "metadata": {},
   "source": [
    "Next, we enter the ZTF identifier of the candidate we want to analyze."
   ]
  },
  {
   "cell_type": "code",
   "execution_count": null,
   "id": "dc4fd99b",
   "metadata": {},
   "outputs": [],
   "source": [
    "name = 'ZTF20abyfpze'\n",
    "filter_names = {1: 'g', 2: 'r', 3: 'i'}"
   ]
  },
  {
   "cell_type": "markdown",
   "id": "e08d4f94",
   "metadata": {},
   "source": [
    "We initialize the relevant AMPEL T2 units."
   ]
  },
  {
   "cell_type": "code",
   "execution_count": null,
   "id": "a4394ccb",
   "metadata": {},
   "outputs": [],
   "source": [
    "logger = AmpelLogger.get_logger()\n",
    "t2snguess = T2BrightSNProb(logger=logger)\n",
    "t2snguess.filter_names = filter_names\n",
    "t2snguess.post_init()\n",
    "shaper = ZiDataPointShaper(logger=logger)"
   ]
  },
  {
   "cell_type": "code",
   "execution_count": null,
   "id": "a966016c",
   "metadata": {},
   "outputs": [],
   "source": [
    "print(t2snguess.filter_names)"
   ]
  },
  {
   "cell_type": "markdown",
   "id": "d912c5e9",
   "metadata": {},
   "source": [
    "We set the DESY archive endpoint url and request the alerts of the candidate using our connection token."
   ]
  },
  {
   "cell_type": "code",
   "execution_count": null,
   "id": "d2cbbf20",
   "metadata": {},
   "outputs": [],
   "source": [
    "endpoint = \"https://ampel.zeuthen.desy.de/api/ztf/archive/v2/object/{}/alerts?with_history=true&with_cutouts=false\".format(name)\n",
    "headers = {'Authorization': f\"bearer {token}\"}"
   ]
  },
  {
   "cell_type": "code",
   "execution_count": null,
   "id": "c34687eb",
   "metadata": {},
   "outputs": [],
   "source": [
    "headers"
   ]
  },
  {
   "cell_type": "code",
   "execution_count": null,
   "id": "b8ba5411",
   "metadata": {},
   "outputs": [],
   "source": [
    "response = requests.get(endpoint, headers=headers)\n",
    "response.raise_for_status()"
   ]
  },
  {
   "cell_type": "code",
   "execution_count": null,
   "id": "ff44ab30",
   "metadata": {},
   "outputs": [],
   "source": [
    "alerts = response.json()\n",
    "print(\"Found {} alerts for {}\".format(len(alerts), name))"
   ]
  },
  {
   "cell_type": "markdown",
   "id": "db43c400",
   "metadata": {},
   "source": [
    "Finally, we iterate over the alerts and run SNGuess over them in order to obtain a relevance score and a boolean that indicates whether its candidate is likely to be relevant for follow up observations or not."
   ]
  },
  {
   "cell_type": "code",
   "execution_count": null,
   "id": "d4a87569",
   "metadata": {},
   "outputs": [],
   "source": [
    "summary = []\n",
    "for alert in alerts:\n",
    "    \n",
    "    # Create standardized LightCurve object\n",
    "    pps = [alert['candidate']]\n",
    "    pps.extend( [prv_cand for prv_cand in alert['prv_candidates'] ] )\n",
    "    \n",
    "    # The following loop is _likely_ due to an inconsistency in the alert archive with the shaper\n",
    "    # and can hopefully be removed soon\n",
    "    for pp in pps:\n",
    "        if \"magpsf\" in pp.keys():\n",
    "            pp[\"candid\"] = 999\n",
    "\n",
    "    stockId = ZTFIdMapper.to_ampel_id(name)\n",
    "    dps = shaper.process( pps, stockId)\n",
    "    t1d = T1Document(stock=stockId, link=0)\n",
    "    lc = LightCurve.build(t1d, dps)\n",
    "    \n",
    "    # Content\n",
    "    jds = lc.get_values(\"jd\")\n",
    "    if jds is None:\n",
    "        continue\n",
    "    t2out = t2snguess.process(lc)\n",
    "    \n",
    "    if t2out['success']:\n",
    "        summary.append({\n",
    "            'last_detection': max(jds),\n",
    "            'number_of_detections': len(jds),\n",
    "            'success': t2out['success'], \n",
    "            'score': t2out['SNGuess'], \n",
    "            'selected': t2out['SNGuessBool']\n",
    "        })\n",
    "    else:\n",
    "        summary.append({\n",
    "            'last_detection': max(jds),\n",
    "            'number_of_detections': len(jds),\n",
    "            'success': t2out['success'], \n",
    "            'score': None, \n",
    "            'selected': None\n",
    "        })"
   ]
  },
  {
   "cell_type": "markdown",
   "id": "cc00d3c7",
   "metadata": {},
   "source": [
    "We display the results."
   ]
  },
  {
   "cell_type": "code",
   "execution_count": null,
   "id": "2af7cbee",
   "metadata": {},
   "outputs": [],
   "source": [
    "pd.DataFrame(summary)"
   ]
  }
 ],
 "metadata": {
  "kernelspec": {
   "display_name": "Python 3 (ipykernel)",
   "language": "python",
   "name": "python3"
  },
  "language_info": {
   "codemirror_mode": {
    "name": "ipython",
    "version": 3
   },
   "file_extension": ".py",
   "mimetype": "text/x-python",
   "name": "python",
   "nbconvert_exporter": "python",
   "pygments_lexer": "ipython3",
   "version": "3.10.1"
  }
 },
 "nbformat": 4,
 "nbformat_minor": 5
}
