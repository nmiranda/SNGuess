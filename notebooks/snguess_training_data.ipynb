{
 "cells": [
  {
   "cell_type": "markdown",
   "id": "90cdfc33",
   "metadata": {},
   "source": [
    "# SNGuess Training Data Set\n",
    "\n",
    "In this notebook we describe de procedure we followed in order to generate the training set for SNGuess. The objective of SNGuess is to predict in the early stages of a lightcurve whether it will be of interest for future follow up observations. It may also have other secondary objectives, such as predicting if a certain lightcurve will, in the end, be classified as belonging to a certain source object type."
   ]
  },
  {
   "cell_type": "code",
   "execution_count": 1,
   "id": "fca9b21f",
   "metadata": {},
   "outputs": [],
   "source": [
    "import pandas as pd\n",
    "import numpy as np\n",
    "import re\n",
    "from astropy.time import Time\n",
    "import matplotlib.pyplot as plt\n",
    "import matplotlib.ticker as ticker"
   ]
  },
  {
   "cell_type": "markdown",
   "id": "5f5bdca4",
   "metadata": {},
   "source": [
    "## Light curve data\n",
    "\n",
    "As an introduction, here is a plot showing the light curve with observations performed by ZTF of transient with ID ZTF21abbyhvw. This is the sort of transient that we look to be able to detect before its peak time."
   ]
  },
  {
   "cell_type": "code",
   "execution_count": 2,
   "id": "a31bc35b",
   "metadata": {},
   "outputs": [
    {
     "data": {
      "image/png": "[encoded data removed]",
      "text/plain": [
       "<Figure size 800x600 with 1 Axes>"
      ]
     },
     "metadata": {
      "needs_background": "light"
     },
     "output_type": "display_data"
    }
   ],
   "source": [
    "lc = pd.read_csv('ZTF21abbyhvw.csv')\n",
    "\n",
    "my_dpi = 96.0\n",
    "fig, ax = plt.subplots(figsize=(800/my_dpi, 600/my_dpi), dpi=my_dpi)\n",
    "ztfr_mask = (lc['filter']=='ztfr') & (lc['mag'].notna())\n",
    "ztfg_mask = (lc['filter']=='ztfg') & (lc['mag'].notna())\n",
    "ztfi_mask = (lc['filter']=='ztfi') & (lc['mag'].notna())\n",
    "ztfr_non_mask = (lc['filter']=='ztfr') & (lc['mag'].isna())\n",
    "ztfg_non_mask = (lc['filter']=='ztfg') & (lc['mag'].isna())\n",
    "ztfi_non_mask = (lc['filter']=='ztfi') & (lc['mag'].isna())\n",
    "plt.errorbar(data=lc[ztfr_mask], x='mjd', y='mag', yerr='magerr',  c='r', fmt='.', label='ZTF r')\n",
    "plt.errorbar(data=lc[ztfg_mask], x='mjd', y='mag', yerr='magerr',  c='g', fmt='.', label='ZTF g')\n",
    "plt.errorbar(data=lc[ztfi_mask], x='mjd', y='mag', yerr='magerr',  c='orange', fmt='.', label='ZTF i')\n",
    "plt.plot('mjd', 'limiting_mag', 'ro', data=lc[ztfr_non_mask], mfc='none', ms=4, mew=.5, alpha=0.5, label='')\n",
    "plt.plot('mjd', 'limiting_mag', 'go', data=lc[ztfg_non_mask], mfc='none', ms=4, mew=.5, alpha=0.5, label='')\n",
    "plt.plot('mjd', 'limiting_mag', 'o', data=lc[ztfi_non_mask], c='orange', mfc='none', ms=4, mew=.5, alpha=0.5, label='')\n",
    "plt.gca().invert_yaxis()\n",
    "plt.grid(alpha=0.3)\n",
    "ax.yaxis.set_major_locator(ticker.MultipleLocator(base=1.0))\n",
    "ax.yaxis.set_minor_locator(ticker.AutoMinorLocator())\n",
    "ax.xaxis.set_minor_locator(ticker.AutoMinorLocator())\n",
    "ax.set_xlabel('MJD')\n",
    "ax.set_ylabel('AB mag')\n",
    "ax.legend(loc='lower right')\n",
    "fig.savefig(\"ZTF21abbyhvw.pdf\", bbox_inches='tight')"
   ]
  },
  {
   "cell_type": "markdown",
   "id": "17794d3d",
   "metadata": {},
   "source": [
    "## Loading the input data files\n",
    "\n",
    "First, we load the file `risedecline.csv`. This file contains a set of features, manually defined by a domain expert, and then calculated over a set of astronomical alerts, received and processed by the AMPEL broker system. Each row corresponds to features calculated from a single alert. A unique transient event (described by `snname`) thus frequently appear multiple times. `NaN` indicates a feature which could not be calculated based on the content of that specific alert. `RiseDecline` features calculated by the AMPEL T2 unit <https://github.com/AmpelProject/Ampel-contrib-HU/blob/master/ampel/contrib/hu/t2/T2RiseDeclineStat.py>."
   ]
  },
  {
   "cell_type": "code",
   "execution_count": 3,
   "id": "e581c355",
   "metadata": {},
   "outputs": [
    {
     "data": {
      "text/html": [
       "<div>\n",
       "<style scoped>\n",
       "    .dataframe tbody tr th:only-of-type {\n",
       "        vertical-align: middle;\n",
       "    }\n",
       "\n",
       "    .dataframe tbody tr th {\n",
       "        vertical-align: top;\n",
       "    }\n",
       "\n",
       "    .dataframe thead th {\n",
       "        text-align: right;\n",
       "    }\n",
       "</style>\n",
       "<table border=\"1\" class=\"dataframe\">\n",
       "  <thead>\n",
       "    <tr style=\"text-align: right;\">\n",
       "      <th></th>\n",
       "      <th>cut_pp</th>\n",
       "      <th>jd_det</th>\n",
       "      <th>jd_last</th>\n",
       "      <th>ndet</th>\n",
       "      <th>mag_det</th>\n",
       "      <th>mag_last</th>\n",
       "      <th>t_lc</th>\n",
       "      <th>rb_med</th>\n",
       "      <th>drb_med</th>\n",
       "      <th>distnr_med</th>\n",
       "      <th>...</th>\n",
       "      <th>bool_rising</th>\n",
       "      <th>bool_hasgaps</th>\n",
       "      <th>slope_rise_g</th>\n",
       "      <th>slope_rise_r</th>\n",
       "      <th>col_det</th>\n",
       "      <th>col_last</th>\n",
       "      <th>col_peak</th>\n",
       "      <th>snname</th>\n",
       "      <th>slope_fall_g</th>\n",
       "      <th>slope_fall_r</th>\n",
       "    </tr>\n",
       "  </thead>\n",
       "  <tbody>\n",
       "    <tr>\n",
       "      <th>0</th>\n",
       "      <td>0</td>\n",
       "      <td>2.458434e+06</td>\n",
       "      <td>2.458434e+06</td>\n",
       "      <td>1</td>\n",
       "      <td>17.577295</td>\n",
       "      <td>17.577295</td>\n",
       "      <td>0.000000</td>\n",
       "      <td>0.433333</td>\n",
       "      <td>NaN</td>\n",
       "      <td>1.078758</td>\n",
       "      <td>...</td>\n",
       "      <td>True</td>\n",
       "      <td>NaN</td>\n",
       "      <td>NaN</td>\n",
       "      <td>NaN</td>\n",
       "      <td>NaN</td>\n",
       "      <td>NaN</td>\n",
       "      <td>NaN</td>\n",
       "      <td>ZTF18aaxgaxw</td>\n",
       "      <td>NaN</td>\n",
       "      <td>NaN</td>\n",
       "    </tr>\n",
       "    <tr>\n",
       "      <th>1</th>\n",
       "      <td>0</td>\n",
       "      <td>2.458434e+06</td>\n",
       "      <td>2.458434e+06</td>\n",
       "      <td>1</td>\n",
       "      <td>17.577295</td>\n",
       "      <td>17.577295</td>\n",
       "      <td>0.000000</td>\n",
       "      <td>0.433333</td>\n",
       "      <td>NaN</td>\n",
       "      <td>1.078758</td>\n",
       "      <td>...</td>\n",
       "      <td>True</td>\n",
       "      <td>NaN</td>\n",
       "      <td>NaN</td>\n",
       "      <td>NaN</td>\n",
       "      <td>NaN</td>\n",
       "      <td>NaN</td>\n",
       "      <td>NaN</td>\n",
       "      <td>ZTF18aaxgaxw</td>\n",
       "      <td>NaN</td>\n",
       "      <td>NaN</td>\n",
       "    </tr>\n",
       "    <tr>\n",
       "      <th>2</th>\n",
       "      <td>0</td>\n",
       "      <td>2.458434e+06</td>\n",
       "      <td>2.458434e+06</td>\n",
       "      <td>1</td>\n",
       "      <td>17.577295</td>\n",
       "      <td>17.577295</td>\n",
       "      <td>0.000000</td>\n",
       "      <td>0.433333</td>\n",
       "      <td>NaN</td>\n",
       "      <td>1.078758</td>\n",
       "      <td>...</td>\n",
       "      <td>True</td>\n",
       "      <td>NaN</td>\n",
       "      <td>NaN</td>\n",
       "      <td>NaN</td>\n",
       "      <td>NaN</td>\n",
       "      <td>NaN</td>\n",
       "      <td>NaN</td>\n",
       "      <td>ZTF18aaxgaxw</td>\n",
       "      <td>NaN</td>\n",
       "      <td>NaN</td>\n",
       "    </tr>\n",
       "    <tr>\n",
       "      <th>3</th>\n",
       "      <td>0</td>\n",
       "      <td>2.458434e+06</td>\n",
       "      <td>2.458434e+06</td>\n",
       "      <td>1</td>\n",
       "      <td>17.577295</td>\n",
       "      <td>17.577295</td>\n",
       "      <td>0.000000</td>\n",
       "      <td>0.433333</td>\n",
       "      <td>NaN</td>\n",
       "      <td>1.078758</td>\n",
       "      <td>...</td>\n",
       "      <td>True</td>\n",
       "      <td>NaN</td>\n",
       "      <td>NaN</td>\n",
       "      <td>NaN</td>\n",
       "      <td>NaN</td>\n",
       "      <td>NaN</td>\n",
       "      <td>NaN</td>\n",
       "      <td>ZTF18aaxgaxw</td>\n",
       "      <td>NaN</td>\n",
       "      <td>NaN</td>\n",
       "    </tr>\n",
       "    <tr>\n",
       "      <th>4</th>\n",
       "      <td>0</td>\n",
       "      <td>2.458434e+06</td>\n",
       "      <td>2.458434e+06</td>\n",
       "      <td>1</td>\n",
       "      <td>17.577295</td>\n",
       "      <td>17.577295</td>\n",
       "      <td>0.000000</td>\n",
       "      <td>0.433333</td>\n",
       "      <td>NaN</td>\n",
       "      <td>1.078758</td>\n",
       "      <td>...</td>\n",
       "      <td>True</td>\n",
       "      <td>NaN</td>\n",
       "      <td>NaN</td>\n",
       "      <td>NaN</td>\n",
       "      <td>NaN</td>\n",
       "      <td>NaN</td>\n",
       "      <td>NaN</td>\n",
       "      <td>ZTF18aaxgaxw</td>\n",
       "      <td>NaN</td>\n",
       "      <td>NaN</td>\n",
       "    </tr>\n",
       "    <tr>\n",
       "      <th>...</th>\n",
       "      <td>...</td>\n",
       "      <td>...</td>\n",
       "      <td>...</td>\n",
       "      <td>...</td>\n",
       "      <td>...</td>\n",
       "      <td>...</td>\n",
       "      <td>...</td>\n",
       "      <td>...</td>\n",
       "      <td>...</td>\n",
       "      <td>...</td>\n",
       "      <td>...</td>\n",
       "      <td>...</td>\n",
       "      <td>...</td>\n",
       "      <td>...</td>\n",
       "      <td>...</td>\n",
       "      <td>...</td>\n",
       "      <td>...</td>\n",
       "      <td>...</td>\n",
       "      <td>...</td>\n",
       "      <td>...</td>\n",
       "      <td>...</td>\n",
       "    </tr>\n",
       "    <tr>\n",
       "      <th>261412</th>\n",
       "      <td>0</td>\n",
       "      <td>2.458663e+06</td>\n",
       "      <td>2.458668e+06</td>\n",
       "      <td>2</td>\n",
       "      <td>17.056499</td>\n",
       "      <td>17.605425</td>\n",
       "      <td>4.979271</td>\n",
       "      <td>0.649286</td>\n",
       "      <td>0.214382</td>\n",
       "      <td>0.762824</td>\n",
       "      <td>...</td>\n",
       "      <td>False</td>\n",
       "      <td>False</td>\n",
       "      <td>NaN</td>\n",
       "      <td>NaN</td>\n",
       "      <td>NaN</td>\n",
       "      <td>NaN</td>\n",
       "      <td>NaN</td>\n",
       "      <td>ZTF19abddmnz</td>\n",
       "      <td>0.110242</td>\n",
       "      <td>NaN</td>\n",
       "    </tr>\n",
       "    <tr>\n",
       "      <th>261413</th>\n",
       "      <td>0</td>\n",
       "      <td>2.458668e+06</td>\n",
       "      <td>2.458671e+06</td>\n",
       "      <td>3</td>\n",
       "      <td>19.795700</td>\n",
       "      <td>19.604424</td>\n",
       "      <td>2.981759</td>\n",
       "      <td>0.897143</td>\n",
       "      <td>0.999895</td>\n",
       "      <td>1.378160</td>\n",
       "      <td>...</td>\n",
       "      <td>True</td>\n",
       "      <td>False</td>\n",
       "      <td>NaN</td>\n",
       "      <td>NaN</td>\n",
       "      <td>-0.069893</td>\n",
       "      <td>NaN</td>\n",
       "      <td>NaN</td>\n",
       "      <td>ZTF19abddoln</td>\n",
       "      <td>NaN</td>\n",
       "      <td>NaN</td>\n",
       "    </tr>\n",
       "    <tr>\n",
       "      <th>261414</th>\n",
       "      <td>0</td>\n",
       "      <td>2.458668e+06</td>\n",
       "      <td>2.458668e+06</td>\n",
       "      <td>2</td>\n",
       "      <td>19.795700</td>\n",
       "      <td>19.865593</td>\n",
       "      <td>0.020556</td>\n",
       "      <td>0.903571</td>\n",
       "      <td>0.999870</td>\n",
       "      <td>1.513054</td>\n",
       "      <td>...</td>\n",
       "      <td>True</td>\n",
       "      <td>False</td>\n",
       "      <td>NaN</td>\n",
       "      <td>NaN</td>\n",
       "      <td>-0.069893</td>\n",
       "      <td>-0.069893</td>\n",
       "      <td>NaN</td>\n",
       "      <td>ZTF19abddoln</td>\n",
       "      <td>NaN</td>\n",
       "      <td>NaN</td>\n",
       "    </tr>\n",
       "    <tr>\n",
       "      <th>261415</th>\n",
       "      <td>0</td>\n",
       "      <td>2.458668e+06</td>\n",
       "      <td>2.458674e+06</td>\n",
       "      <td>4</td>\n",
       "      <td>19.795700</td>\n",
       "      <td>19.511892</td>\n",
       "      <td>5.982535</td>\n",
       "      <td>0.903571</td>\n",
       "      <td>0.999920</td>\n",
       "      <td>1.470891</td>\n",
       "      <td>...</td>\n",
       "      <td>True</td>\n",
       "      <td>False</td>\n",
       "      <td>-0.047439</td>\n",
       "      <td>-0.088197</td>\n",
       "      <td>-0.069893</td>\n",
       "      <td>NaN</td>\n",
       "      <td>NaN</td>\n",
       "      <td>ZTF19abddoln</td>\n",
       "      <td>NaN</td>\n",
       "      <td>NaN</td>\n",
       "    </tr>\n",
       "    <tr>\n",
       "      <th>261416</th>\n",
       "      <td>0</td>\n",
       "      <td>2.458668e+06</td>\n",
       "      <td>2.458678e+06</td>\n",
       "      <td>5</td>\n",
       "      <td>19.795700</td>\n",
       "      <td>19.627052</td>\n",
       "      <td>10.017894</td>\n",
       "      <td>0.897143</td>\n",
       "      <td>0.999917</td>\n",
       "      <td>1.378160</td>\n",
       "      <td>...</td>\n",
       "      <td>False</td>\n",
       "      <td>False</td>\n",
       "      <td>NaN</td>\n",
       "      <td>NaN</td>\n",
       "      <td>-0.069893</td>\n",
       "      <td>NaN</td>\n",
       "      <td>NaN</td>\n",
       "      <td>ZTF19abddoln</td>\n",
       "      <td>NaN</td>\n",
       "      <td>NaN</td>\n",
       "    </tr>\n",
       "  </tbody>\n",
       "</table>\n",
       "<p>261417 rows × 34 columns</p>\n",
       "</div>"
      ],
      "text/plain": [
       "        cut_pp        jd_det       jd_last  ndet    mag_det   mag_last  \\\n",
       "0            0  2.458434e+06  2.458434e+06     1  17.577295  17.577295   \n",
       "1            0  2.458434e+06  2.458434e+06     1  17.577295  17.577295   \n",
       "2            0  2.458434e+06  2.458434e+06     1  17.577295  17.577295   \n",
       "3            0  2.458434e+06  2.458434e+06     1  17.577295  17.577295   \n",
       "4            0  2.458434e+06  2.458434e+06     1  17.577295  17.577295   \n",
       "...        ...           ...           ...   ...        ...        ...   \n",
       "261412       0  2.458663e+06  2.458668e+06     2  17.056499  17.605425   \n",
       "261413       0  2.458668e+06  2.458671e+06     3  19.795700  19.604424   \n",
       "261414       0  2.458668e+06  2.458668e+06     2  19.795700  19.865593   \n",
       "261415       0  2.458668e+06  2.458674e+06     4  19.795700  19.511892   \n",
       "261416       0  2.458668e+06  2.458678e+06     5  19.795700  19.627052   \n",
       "\n",
       "             t_lc    rb_med   drb_med  distnr_med  ...  bool_rising  \\\n",
       "0        0.000000  0.433333       NaN    1.078758  ...         True   \n",
       "1        0.000000  0.433333       NaN    1.078758  ...         True   \n",
       "2        0.000000  0.433333       NaN    1.078758  ...         True   \n",
       "3        0.000000  0.433333       NaN    1.078758  ...         True   \n",
       "4        0.000000  0.433333       NaN    1.078758  ...         True   \n",
       "...           ...       ...       ...         ...  ...          ...   \n",
       "261412   4.979271  0.649286  0.214382    0.762824  ...        False   \n",
       "261413   2.981759  0.897143  0.999895    1.378160  ...         True   \n",
       "261414   0.020556  0.903571  0.999870    1.513054  ...         True   \n",
       "261415   5.982535  0.903571  0.999920    1.470891  ...         True   \n",
       "261416  10.017894  0.897143  0.999917    1.378160  ...        False   \n",
       "\n",
       "        bool_hasgaps  slope_rise_g  slope_rise_r   col_det  col_last  \\\n",
       "0                NaN           NaN           NaN       NaN       NaN   \n",
       "1                NaN           NaN           NaN       NaN       NaN   \n",
       "2                NaN           NaN           NaN       NaN       NaN   \n",
       "3                NaN           NaN           NaN       NaN       NaN   \n",
       "4                NaN           NaN           NaN       NaN       NaN   \n",
       "...              ...           ...           ...       ...       ...   \n",
       "261412         False           NaN           NaN       NaN       NaN   \n",
       "261413         False           NaN           NaN -0.069893       NaN   \n",
       "261414         False           NaN           NaN -0.069893 -0.069893   \n",
       "261415         False     -0.047439     -0.088197 -0.069893       NaN   \n",
       "261416         False           NaN           NaN -0.069893       NaN   \n",
       "\n",
       "        col_peak        snname  slope_fall_g  slope_fall_r  \n",
       "0            NaN  ZTF18aaxgaxw           NaN           NaN  \n",
       "1            NaN  ZTF18aaxgaxw           NaN           NaN  \n",
       "2            NaN  ZTF18aaxgaxw           NaN           NaN  \n",
       "3            NaN  ZTF18aaxgaxw           NaN           NaN  \n",
       "4            NaN  ZTF18aaxgaxw           NaN           NaN  \n",
       "...          ...           ...           ...           ...  \n",
       "261412       NaN  ZTF19abddmnz      0.110242           NaN  \n",
       "261413       NaN  ZTF19abddoln           NaN           NaN  \n",
       "261414       NaN  ZTF19abddoln           NaN           NaN  \n",
       "261415       NaN  ZTF19abddoln           NaN           NaN  \n",
       "261416       NaN  ZTF19abddoln           NaN           NaN  \n",
       "\n",
       "[261417 rows x 34 columns]"
      ]
     },
     "execution_count": 3,
     "metadata": {},
     "output_type": "execute_result"
    }
   ],
   "source": [
    "features = pd.read_csv('risedecline.csv', index_col=0)\n",
    "features"
   ]
  },
  {
   "cell_type": "code",
   "execution_count": 4,
   "id": "a5e5e120",
   "metadata": {},
   "outputs": [
    {
     "name": "stdout",
     "output_type": "stream",
     "text": [
      "First detection: 2018-05-04 05:18:33.002\n",
      "Last detection: 2019-07-30 11:57:26.001\n"
     ]
    }
   ],
   "source": [
    "print(\"First detection:\", Time(features.jd_last.min(), format='jd').iso)\n",
    "print(\"Last detection:\", Time(features.jd_last.max(), format='jd').iso)"
   ]
  },
  {
   "cell_type": "code",
   "execution_count": 5,
   "id": "98b847a3",
   "metadata": {},
   "outputs": [
    {
     "name": "stdout",
     "output_type": "stream",
     "text": [
      "Number of alerts: 261417\n",
      "Number of candidates: 45765\n"
     ]
    }
   ],
   "source": [
    "print(\"Number of alerts:\", len(features))\n",
    "print(\"Number of candidates:\", len(features.snname.unique()))"
   ]
  },
  {
   "cell_type": "markdown",
   "id": "97f46dce",
   "metadata": {},
   "source": [
    "The alerts sometimes contain nonsensical values. We set these consisently to `None`."
   ]
  },
  {
   "cell_type": "code",
   "execution_count": 6,
   "id": "835246aa",
   "metadata": {},
   "outputs": [],
   "source": [
    "features.loc[features['distnr_med']<0, 'distnr_med'] = None\n",
    "features.loc[features['magnr_med']<0, 'magnr_med'] = None\n",
    "features.loc[features['sgscore1_med']<0, 'sgscore1_med'] = None\n",
    "features.loc[features['distpsnr1_med']<0, 'distpsnr1_med'] = None\n",
    "features.loc[features['sgscore2_med']<0, 'sgscore2_med'] = None\n",
    "features.loc[features['distpsnr2_med']<0, 'distpsnr2_med'] = None\n",
    "features.loc[features['neargaia_med']<0, 'neargaia_med'] = None\n",
    "features.loc[features['maggaia_med']<0, 'maggaia_med'] = None"
   ]
  },
  {
   "cell_type": "markdown",
   "id": "65ff12bc",
   "metadata": {},
   "source": [
    "Also, there are very rare cases with duplicated photopoints. Possibly alerts issued multiple times. These are very rare. They are labeled with a `cut_pp` value of `True`. We proceed to remove these."
   ]
  },
  {
   "cell_type": "code",
   "execution_count": 7,
   "id": "18dab82c",
   "metadata": {},
   "outputs": [],
   "source": [
    "iDup = np.where(features[\"cut_pp\"]>0)[0]\n",
    "dupTransients = features.iloc[iDup]['snname'].unique()\n",
    "features = features[ ~features['snname'].isin(dupTransients) ].copy()\n",
    "features.reset_index(inplace=True)"
   ]
  },
  {
   "cell_type": "code",
   "execution_count": 8,
   "id": "07cc0d8d",
   "metadata": {},
   "outputs": [
    {
     "name": "stdout",
     "output_type": "stream",
     "text": [
      "Number of alerts: 250325\n",
      "Number of candidates: 45397\n"
     ]
    }
   ],
   "source": [
    "print(\"Number of alerts:\", len(features))\n",
    "print(\"Number of candidates: %s\"%(len(features.snname.unique())))"
   ]
  },
  {
   "cell_type": "markdown",
   "id": "b623948d",
   "metadata": {},
   "source": [
    "Then, we load a file that contains a catalog of candidate lightcurves from RCF, complete with their spectroscopical classification information. Note that this information is only used to assign classification labels - the photometric observation data in this file is not used. "
   ]
  },
  {
   "cell_type": "code",
   "execution_count": 9,
   "id": "fd9029b4",
   "metadata": {},
   "outputs": [
    {
     "name": "stdout",
     "output_type": "stream",
     "text": [
      "Read 4578 RCF candidates.\n"
     ]
    }
   ],
   "source": [
    "rcf_lc = pd.read_pickle('rcf_marshallc_sncosmo_200114.pkl')\n",
    "print('Read %s RCF candidates.' % (len(rcf_lc)))"
   ]
  },
  {
   "cell_type": "markdown",
   "id": "51436944",
   "metadata": {},
   "source": [
    "As the RCF scanning team consisently visually selects against likely CVs, we load a catalog of recent cataclysmic variable star lightcurves. Again, we will only make use of the IDs."
   ]
  },
  {
   "cell_type": "code",
   "execution_count": 10,
   "id": "82a7d1c5",
   "metadata": {},
   "outputs": [
    {
     "name": "stdout",
     "output_type": "stream",
     "text": [
      "Read 495 CV candidates.\n"
     ]
    }
   ],
   "source": [
    "df_cv = pd.read_csv('CV_list_23Mar2020.txt', sep='\\s+', skiprows=4, names=['name','ra','dec','l','b'])\n",
    "rcf_cv = list(df_cv['name'])\n",
    "print(\"Read %s CV candidates.\" % len(rcf_cv))"
   ]
  },
  {
   "cell_type": "markdown",
   "id": "476c5ef4",
   "metadata": {},
   "source": [
    "We also proceed to load a recently generated list of superluminous supernovae (SLSNe) that we can use to further update the classes of our dataset."
   ]
  },
  {
   "cell_type": "code",
   "execution_count": 11,
   "id": "49a2449e",
   "metadata": {},
   "outputs": [],
   "source": [
    "slsne = dict()\n",
    "with open(\"list_of_superluminous_supernovae_slsne.txt\") as fd:\n",
    "    for line in fd:\n",
    "        split_line = re.split(r'\\s+', line)\n",
    "        ztfid = split_line[0]\n",
    "        subclass = split_line[9]\n",
    "        slsne[ztfid] = subclass"
   ]
  },
  {
   "cell_type": "markdown",
   "id": "b5ab889d",
   "metadata": {},
   "source": [
    "## Adding RCF information into features table\n",
    "We then proceed, by using the common ZTF identification string, to cross-match the data from our rise-decline feature data set with the classes of the RCF and the CV list datasets. We do this in order to complete our lightcurve feature table with columns indicating the class of the source object."
   ]
  },
  {
   "cell_type": "code",
   "execution_count": 12,
   "id": "ea013fce",
   "metadata": {},
   "outputs": [],
   "source": [
    "rcf_class = dict()\n",
    "for tid, tdata in rcf_lc.items():\n",
    "    rcf_class[tid] = tdata.meta['classification']\n",
    "rcf_class = pd.Series(rcf_class, name='rcf_class')\n",
    "features = features.merge(rcf_class, how='left', left_on='snname', right_index=True)"
   ]
  },
  {
   "cell_type": "code",
   "execution_count": 13,
   "id": "b9ff0dd3",
   "metadata": {},
   "outputs": [
    {
     "data": {
      "text/plain": [
       "SN Ia             16942\n",
       "AGN                5573\n",
       "SN II              5022\n",
       "SN IIP             1790\n",
       "SN IIn             1476\n",
       "SN Ia 91T-like      854\n",
       "SN Ic               813\n",
       "SLSN-II             706\n",
       "CV                  693\n",
       "SN Ib               611\n",
       "Name: rcf_class, dtype: int64"
      ]
     },
     "execution_count": 13,
     "metadata": {},
     "output_type": "execute_result"
    }
   ],
   "source": [
    "# Display ten most common type labels\n",
    "features.rcf_class[features.rcf_class.notna()].value_counts()[:10]"
   ]
  },
  {
   "cell_type": "code",
   "execution_count": 14,
   "id": "4b96cd9a",
   "metadata": {},
   "outputs": [
    {
     "name": "stdout",
     "output_type": "stream",
     "text": [
      "Number of valid types: 79\n"
     ]
    }
   ],
   "source": [
    "print(\"Number of valid types:\", len(features.rcf_class[features.rcf_class.notna()].unique()))"
   ]
  },
  {
   "cell_type": "markdown",
   "id": "12bfc5fc",
   "metadata": {},
   "source": [
    "We add the result of the cross matching as boolean columns to the feature table (one column for every class we are interested in)..."
   ]
  },
  {
   "cell_type": "code",
   "execution_count": 15,
   "id": "335ca9a7",
   "metadata": {},
   "outputs": [],
   "source": [
    "# SN types\n",
    "sn_mask = features.rcf_class.fillna('').str.match(r\"(SL)?SN\", case=False)\n",
    "gap_mask = features.rcf_class.fillna('').str.match(r\"Gap\", case=False)\n",
    "slsne_mask = features.snname.isin(list(slsne.keys()))\n",
    "features['rcf_sn'] = False\n",
    "features.loc[(sn_mask | gap_mask | slsne_mask), 'rcf_sn'] = True\n",
    "\n",
    "# AGN types\n",
    "agn_mask = features.rcf_class.fillna('').str.match(r\"AGN\", case=False)\n",
    "qso_mask = features.rcf_class.fillna('').str.match(r\"QSO\", case=False)\n",
    "features['rcf_agn'] = False\n",
    "features.loc[(agn_mask | qso_mask), 'rcf_agn'] = True\n",
    "\n",
    "# CV types\n",
    "cv_mask = features.rcf_class.fillna('').str.match(r\"cv\", case=False)\n",
    "cv_rcf_mask = features.snname.isin(rcf_cv)\n",
    "features['rcf_cv'] = False\n",
    "features.loc[(cv_mask | cv_rcf_mask), 'rcf_cv'] = True"
   ]
  },
  {
   "cell_type": "code",
   "execution_count": 16,
   "id": "c2c4d15c",
   "metadata": {},
   "outputs": [
    {
     "name": "stdout",
     "output_type": "stream",
     "text": [
      "rcf_sn candidates: 1601\n",
      "rcf_agn candidates: 174\n",
      "rcf_cv candidates: 119\n"
     ]
    }
   ],
   "source": [
    "print(\"rcf_sn candidates:\", features[features.rcf_sn].snname.unique().shape[0])\n",
    "print(\"rcf_agn candidates:\", features[features.rcf_agn].snname.unique().shape[0])\n",
    "print(\"rcf_cv candidates:\", features[features.rcf_cv].snname.unique().shape[0])"
   ]
  },
  {
   "cell_type": "markdown",
   "id": "f97e661c",
   "metadata": {},
   "source": [
    "Finally, using our catalog of RCF lightcurves, we add a field that indicates whether the alert's source has been targeted by BTS"
   ]
  },
  {
   "cell_type": "code",
   "execution_count": 17,
   "id": "b7a20d46",
   "metadata": {},
   "outputs": [
    {
     "name": "stdout",
     "output_type": "stream",
     "text": [
      "2513 candidates targeted by BTS.\n"
     ]
    },
    {
     "data": {
      "text/plain": [
       "False    205536\n",
       "True      44789\n",
       "Name: targeted_by_bts, dtype: int64"
      ]
     },
     "execution_count": 17,
     "metadata": {},
     "output_type": "execute_result"
    }
   ],
   "source": [
    "targeted_by_bts = pd.DataFrame(True, index=rcf_lc.keys(), columns=['targeted_by_bts'])\n",
    "features = pd.merge(features, targeted_by_bts, how='left', left_on='snname', right_index=True)\n",
    "features['targeted_by_bts'] = features['targeted_by_bts'].fillna(False)\n",
    "print(\"%d candidates targeted by BTS.\" % (features[features.targeted_by_bts].snname.unique().shape[0]))\n",
    "features.targeted_by_bts.value_counts()"
   ]
  },
  {
   "cell_type": "markdown",
   "id": "dd41a0c3",
   "metadata": {},
   "source": [
    "## Adding sub-class information into features table\n",
    "\n",
    "We can also add a new column called `subclass` that holds more detailed and fine-grained class information to our lightcurve data when available. We'll do that by using our RCF, SLSNe and paper updated class data sources."
   ]
  },
  {
   "cell_type": "code",
   "execution_count": 18,
   "id": "c6cf120d",
   "metadata": {},
   "outputs": [],
   "source": [
    "# Add subclass data from slsne list\n",
    "for ztfid, subclass in slsne.items():\n",
    "    features.loc[features['snname'] == ztfid, 'subclass'] = subclass"
   ]
  },
  {
   "cell_type": "markdown",
   "id": "91fceec1",
   "metadata": {},
   "source": [
    "We'll update some of the sub-classes of our samples with the corresponding reviewed information published in a 2018 paper by Fremling et al."
   ]
  },
  {
   "cell_type": "code",
   "execution_count": 19,
   "id": "8463a9a9",
   "metadata": {},
   "outputs": [],
   "source": [
    "with open('rcf_2018paperchanges.txt') as f:\n",
    "    paper_changes = [re.findall(r'^(\\w+) :  (\\S+) -> (\\S+)',line)[0] for line in f]\n",
    "\n",
    "# Add updated class data from paper\n",
    "for ztfid, old_subclass, new_subclass in paper_changes:\n",
    "    features.loc[features['snname'] == ztfid, 'subclass'] = \"SN \" + str(new_subclass)"
   ]
  },
  {
   "cell_type": "markdown",
   "id": "bb6c40f5",
   "metadata": {},
   "source": [
    "We organize sub-classes in a hierarchy."
   ]
  },
  {
   "cell_type": "code",
   "execution_count": 20,
   "id": "857ae6fb",
   "metadata": {},
   "outputs": [],
   "source": [
    "subclass_tree = {}\n",
    "# test - classes that we first keep as a test sample, for possible confirmation later\n",
    "# based on the result of this we might update the classification and rerun\n",
    "subclass_tree['remove'] = ['Duplicate', 'bogus', 'duplicate',]\n",
    "subclass_tree['to_test'] = ['AGN?' ,'AGN? ','Bogus?','CV Candidate', 'CV?', None, 'None',\n",
    "                          'QSO?', 'blazar?','nan','nova?','old','star?', 'stellar?', \n",
    "                            'unclassified', 'unknown',]\n",
    "subclass_tree['galaxy'] = ['AGN','CLAGN','LINER','LRN','NLS1','Q','QSO','Galaxy', \n",
    "                           'blazar','galaxy']\n",
    "subclass_tree['sn'] = ['SN', 'SNIIb?', 'SLSN-I?', 'SN Ia?', 'SN Ib/c?', 'SN Ib?', 'SN Ic?', \n",
    "                       'SN?', 'SN? ', {} ]\n",
    "subclass_tree['sn'][-1]['slsn'] = [ 'SLSN-I','SLSN-II', 'SLSN-R', 'SN SL-I']\n",
    "subclass_tree['sn'][-1]['rare'] = ['Gap','Gap I', 'Gap I - Ca-rich','ILRT','LBV', 'TDE',]\n",
    "subclass_tree['sn'][-1]['snii'] = ['SN II', 'SN IIL', 'SN IIP', 'SN IIb', 'SN IIn']\n",
    "subclass_tree['sn'][-1]['snii_pec'] = ['SN II-87A', 'SN II-pec']\n",
    "subclass_tree['sn'][-1]['snia'] = ['SNIa', 'SN Ia', 'SN Ia ', 'SN Ia 91T', \n",
    "                                   'SN Ia 91T-like', 'SN Ia-91T', 'SN Ia-norm']\n",
    "subclass_tree['sn'][-1]['snia_pec'] = ['SN Ia 02cx-like', 'SN Ia 02ic-like', 'SN Ia 91bg-like', \n",
    "                                      'SN Ia-02cx', 'SN Ia-91bg', 'SN Ia-CSM', 'SN Ia-csm', 'SN Ia-pec','SN Iax']\n",
    "subclass_tree['sn'][-1]['snibc'] = ['SN Ib','SN Ib/c','SN Ibn','SN Ic','SN Ic-BL',]\n",
    "\n",
    "subclass_tree['stellar'] = ['CV','LRN','Nova', 'Var','star','varstar']"
   ]
  },
  {
   "cell_type": "code",
   "execution_count": 21,
   "id": "a2fdb697",
   "metadata": {},
   "outputs": [],
   "source": [
    "# Create a specific set of labels for easily distinguished sn subtypes:\n",
    "# slsn, snii, snia, snibc\n",
    "features.loc[:,'snclass'] = None\n",
    "for subclass in ['slsn','snii','snia','snibc']:\n",
    "    subnames = subclass_tree['sn'][-1][subclass]\n",
    "    for subname in subnames:\n",
    "        features.loc[features['subclass']==subname,'snclass'] = subclass"
   ]
  },
  {
   "cell_type": "markdown",
   "id": "cf427837",
   "metadata": {},
   "source": [
    "## Saving the final set"
   ]
  },
  {
   "cell_type": "code",
   "execution_count": 22,
   "id": "d1e82c83",
   "metadata": {},
   "outputs": [],
   "source": [
    "features.drop(columns='index').to_csv('snguess_training.csv', index_label=False)"
   ]
  }
 ],
 "metadata": {
  "kernelspec": {
   "display_name": "Python 3 (ipykernel)",
   "language": "python",
   "name": "python3"
  },
  "language_info": {
   "codemirror_mode": {
    "name": "ipython",
    "version": 3
   },
   "file_extension": ".py",
   "mimetype": "text/x-python",
   "name": "python",
   "nbconvert_exporter": "python",
   "pygments_lexer": "ipython3",
   "version": "3.10.1"
  }
 },
 "nbformat": 4,
 "nbformat_minor": 5
}
